{
  "nbformat": 4,
  "nbformat_minor": 0,
  "metadata": {
    "colab": {
      "provenance": []
    },
    "kernelspec": {
      "name": "python3",
      "display_name": "Python 3"
    },
    "language_info": {
      "name": "python"
    }
  },
  "cells": [
    {
      "cell_type": "markdown",
      "source": [
        "a) Look for the missing values in all the columns and either impute them (replace with mean, median, or mode) or drop them. Justify your action for this task."
      ],
      "metadata": {
        "id": "7BnJ7Dr1vCf0"
      }
    },
    {
      "cell_type": "code",
      "source": [
        "\n",
        "\n",
        "import pandas as pd\n",
        "\n",
        "df = pd.read_csv('https://raw.githubusercontent.com/Lohi28/google-colab/refs/heads/main/dataset/train.csv')\n",
        "print(df.head())\n",
        "\n"
      ],
      "metadata": {
        "colab": {
          "base_uri": "https://localhost:8080/"
        },
        "id": "EU-MKkzDyqgO",
        "outputId": "a190fa44-3496-443a-8c54-91bbdfd82e71"
      },
      "execution_count": 172,
      "outputs": [
        {
          "output_type": "stream",
          "name": "stdout",
          "text": [
            "   Unnamed: 0                              Name    Location  Year  \\\n",
            "0           1  Hyundai Creta 1.6 CRDi SX Option        Pune  2015   \n",
            "1           2                      Honda Jazz V     Chennai  2011   \n",
            "2           3                 Maruti Ertiga VDI     Chennai  2012   \n",
            "3           4   Audi A4 New 2.0 TDI Multitronic  Coimbatore  2013   \n",
            "4           6            Nissan Micra Diesel XV      Jaipur  2013   \n",
            "\n",
            "   Kilometers_Driven Fuel_Type Transmission Owner_Type     Mileage   Engine  \\\n",
            "0              41000    Diesel       Manual      First  19.67 kmpl  1582 CC   \n",
            "1              46000    Petrol       Manual      First    13 km/kg  1199 CC   \n",
            "2              87000    Diesel       Manual      First  20.77 kmpl  1248 CC   \n",
            "3              40670    Diesel    Automatic     Second   15.2 kmpl  1968 CC   \n",
            "4              86999    Diesel       Manual      First  23.08 kmpl  1461 CC   \n",
            "\n",
            "       Power  Seats  New_Price  Price  \n",
            "0  126.2 bhp    5.0        NaN  12.50  \n",
            "1   88.7 bhp    5.0  8.61 Lakh   4.50  \n",
            "2  88.76 bhp    7.0        NaN   6.00  \n",
            "3  140.8 bhp    5.0        NaN  17.74  \n",
            "4   63.1 bhp    5.0        NaN   3.50  \n"
          ]
        }
      ]
    },
    {
      "cell_type": "code",
      "source": [
        "\n",
        "\n",
        "\n",
        "#Check the missing values\n",
        "print(df.isnull().sum())\n",
        "\n",
        "# Drop 'New_Price' due to high number of missing values\n",
        "df.drop('New_Price', axis=1, inplace=True)\n",
        "\n",
        "\n",
        "# Convert 'Mileage' to numeric, handling errors\n",
        "df['Mileage'] = pd.to_numeric(df['Mileage'].str.replace('[^0-9.]', '', regex=True), errors='coerce')\n",
        "# Impute missing values for 'Mileage' with the mean\n",
        "df['Mileage'].fillna(df['Mileage'].mean(), inplace=True)\n",
        "\n",
        "# Convert 'Engine' to numeric, handling errors\n",
        "df['Engine'] = pd.to_numeric(df['Engine'].str.replace('[^0-9.]', '', regex=True), errors='coerce')\n",
        "# Impute missing values for 'Engine' with the median\n",
        "df['Engine'].fillna(df['Engine'].median(), inplace=True)\n",
        "\n",
        "# Convert 'Power' to numeric, handling errors\n",
        "df['Power'] = pd.to_numeric(df['Power'].str.replace('[^0-9.]', '', regex=True), errors='coerce')\n",
        "# Impute missing values for 'Power' with the median\n",
        "df['Power'].fillna(df['Power'].median(), inplace=True)\n",
        "\n",
        "# Impute missing values for 'Seats' with the mode\n",
        "df['Seats'].fillna(df['Seats'].mode()[0], inplace=True)\n",
        "\n",
        "#Check the missing values after imputation\n",
        "print(df.isnull().sum())\n",
        "\n",
        "#Save the updated dataframe to a CSV file.\n",
        "df.to_csv('clean_train.csv', index=False)"
      ],
      "metadata": {
        "colab": {
          "base_uri": "https://localhost:8080/"
        },
        "id": "GhOdWKjP69Os",
        "outputId": "f2097f0d-99e7-4fc1-f7fe-afbba8e4b77a"
      },
      "execution_count": 173,
      "outputs": [
        {
          "output_type": "stream",
          "name": "stdout",
          "text": [
            "Unnamed: 0              0\n",
            "Name                    0\n",
            "Location                0\n",
            "Year                    0\n",
            "Kilometers_Driven       0\n",
            "Fuel_Type               0\n",
            "Transmission            0\n",
            "Owner_Type              0\n",
            "Mileage                 2\n",
            "Engine                 36\n",
            "Power                  36\n",
            "Seats                  38\n",
            "New_Price            5032\n",
            "Price                   0\n",
            "dtype: int64\n",
            "Unnamed: 0           0\n",
            "Name                 0\n",
            "Location             0\n",
            "Year                 0\n",
            "Kilometers_Driven    0\n",
            "Fuel_Type            0\n",
            "Transmission         0\n",
            "Owner_Type           0\n",
            "Mileage              0\n",
            "Engine               0\n",
            "Power                0\n",
            "Seats                0\n",
            "Price                0\n",
            "dtype: int64\n"
          ]
        },
        {
          "output_type": "stream",
          "name": "stderr",
          "text": [
            "<ipython-input-173-349c2cc9ebe7>:11: FutureWarning: A value is trying to be set on a copy of a DataFrame or Series through chained assignment using an inplace method.\n",
            "The behavior will change in pandas 3.0. This inplace method will never work because the intermediate object on which we are setting values always behaves as a copy.\n",
            "\n",
            "For example, when doing 'df[col].method(value, inplace=True)', try using 'df.method({col: value}, inplace=True)' or df[col] = df[col].method(value) instead, to perform the operation inplace on the original object.\n",
            "\n",
            "\n",
            "  df['Mileage'].fillna(df['Mileage'].mean(), inplace=True)\n",
            "<ipython-input-173-349c2cc9ebe7>:16: FutureWarning: A value is trying to be set on a copy of a DataFrame or Series through chained assignment using an inplace method.\n",
            "The behavior will change in pandas 3.0. This inplace method will never work because the intermediate object on which we are setting values always behaves as a copy.\n",
            "\n",
            "For example, when doing 'df[col].method(value, inplace=True)', try using 'df.method({col: value}, inplace=True)' or df[col] = df[col].method(value) instead, to perform the operation inplace on the original object.\n",
            "\n",
            "\n",
            "  df['Engine'].fillna(df['Engine'].median(), inplace=True)\n",
            "<ipython-input-173-349c2cc9ebe7>:21: FutureWarning: A value is trying to be set on a copy of a DataFrame or Series through chained assignment using an inplace method.\n",
            "The behavior will change in pandas 3.0. This inplace method will never work because the intermediate object on which we are setting values always behaves as a copy.\n",
            "\n",
            "For example, when doing 'df[col].method(value, inplace=True)', try using 'df.method({col: value}, inplace=True)' or df[col] = df[col].method(value) instead, to perform the operation inplace on the original object.\n",
            "\n",
            "\n",
            "  df['Power'].fillna(df['Power'].median(), inplace=True)\n",
            "<ipython-input-173-349c2cc9ebe7>:24: FutureWarning: A value is trying to be set on a copy of a DataFrame or Series through chained assignment using an inplace method.\n",
            "The behavior will change in pandas 3.0. This inplace method will never work because the intermediate object on which we are setting values always behaves as a copy.\n",
            "\n",
            "For example, when doing 'df[col].method(value, inplace=True)', try using 'df.method({col: value}, inplace=True)' or df[col] = df[col].method(value) instead, to perform the operation inplace on the original object.\n",
            "\n",
            "\n",
            "  df['Seats'].fillna(df['Seats'].mode()[0], inplace=True)\n"
          ]
        }
      ]
    },
    {
      "cell_type": "markdown",
      "source": [
        "b) Remove the units from some of the attributes and only keep the numerical values (for\n",
        "example remove kmpl from “Mileage”, CC from “Engine”, bhp from “Power”, and lakh from\n",
        "“New_price”)."
      ],
      "metadata": {
        "id": "XeKyD2FHpjce"
      }
    },
    {
      "cell_type": "code",
      "source": [
        "\n",
        "\n",
        "import pandas as pd\n",
        "\n",
        "\n",
        "def remove_units(value):\n",
        "    if isinstance(value, str):\n",
        "        value = value.replace('kmpl', '').replace('CC', '').replace('bhp', '').replace('lakh', '')\n",
        "        try:\n",
        "            return float(value)\n",
        "        except ValueError:\n",
        "            return value  # Handle cases where conversion fails (e.g., non-numeric strings)\n",
        "    return value\n",
        "\n",
        "\n",
        "for col in ['Mileage', 'Engine', 'Power']:\n",
        "    df[col] = df[col].apply(remove_units)\n",
        "\n",
        "# Save the modified DataFrame to a CSV file\n",
        "df.to_csv('removingUnits_train.csv', index=False)"
      ],
      "metadata": {
        "id": "N3TxqdyJvjh1"
      },
      "execution_count": 174,
      "outputs": []
    },
    {
      "cell_type": "markdown",
      "source": [
        "C) Change the categorical variables (“Fuel_Type” and “Transmission”) into numerical one hot\n",
        "encoded value."
      ],
      "metadata": {
        "id": "yFhNNrxJpopk"
      }
    },
    {
      "cell_type": "code",
      "source": [
        "\n",
        "\n",
        "import pandas as pd\n",
        "import numpy as np\n",
        "\n",
        "df = pd.get_dummies(df, columns=['Fuel_Type', 'Transmission'], drop_first=True)\n",
        "\n",
        "print(\"\\nDataframe after one-hot encoding:\")\n",
        "print(df.head())\n",
        "\n",
        "#Save the DataFrame to a CSV file\n",
        "df.to_csv('onehot_encode_car_data.csv', index=False)"
      ],
      "metadata": {
        "colab": {
          "base_uri": "https://localhost:8080/"
        },
        "id": "FoS4xJkyz7ZC",
        "outputId": "210d0d58-b9b4-4d86-be2f-941fd5b7290f"
      },
      "execution_count": 175,
      "outputs": [
        {
          "output_type": "stream",
          "name": "stdout",
          "text": [
            "\n",
            "Dataframe after one-hot encoding:\n",
            "   Unnamed: 0                              Name    Location  Year  \\\n",
            "0           1  Hyundai Creta 1.6 CRDi SX Option        Pune  2015   \n",
            "1           2                      Honda Jazz V     Chennai  2011   \n",
            "2           3                 Maruti Ertiga VDI     Chennai  2012   \n",
            "3           4   Audi A4 New 2.0 TDI Multitronic  Coimbatore  2013   \n",
            "4           6            Nissan Micra Diesel XV      Jaipur  2013   \n",
            "\n",
            "   Kilometers_Driven Owner_Type  Mileage  Engine   Power  Seats  Price  \\\n",
            "0              41000      First    19.67  1582.0  126.20    5.0  12.50   \n",
            "1              46000      First    13.00  1199.0   88.70    5.0   4.50   \n",
            "2              87000      First    20.77  1248.0   88.76    7.0   6.00   \n",
            "3              40670     Second    15.20  1968.0  140.80    5.0  17.74   \n",
            "4              86999      First    23.08  1461.0   63.10    5.0   3.50   \n",
            "\n",
            "   Fuel_Type_Electric  Fuel_Type_Petrol  Transmission_Manual  \n",
            "0               False             False                 True  \n",
            "1               False              True                 True  \n",
            "2               False             False                 True  \n",
            "3               False             False                False  \n",
            "4               False             False                 True  \n"
          ]
        }
      ]
    },
    {
      "cell_type": "markdown",
      "source": [
        "d) Create one more feature and add this column to the dataset (you can use mutate function in\n",
        "R for this). For example, you can calculate the current age of the car by subtracting “Year” value\n",
        "from the current year."
      ],
      "metadata": {
        "id": "e92TtdiRptTC"
      }
    },
    {
      "cell_type": "code",
      "source": [
        "\n",
        "current_year = 2023  # You can update this to the current year\n",
        "df['Car_Age'] = current_year - df['Year']\n",
        "\n",
        "print(\"\\nDataframe after adding Car_Age:\")\n",
        "print(df.head())\n",
        "\n",
        "#Save the DataFrame to a CSV file\n",
        "df.to_csv('processed_new_car_data.csv', index=False)"
      ],
      "metadata": {
        "colab": {
          "base_uri": "https://localhost:8080/"
        },
        "id": "d4bM_zmr3iAH",
        "outputId": "8cd8147a-5d47-42e1-f130-be82b87e730d"
      },
      "execution_count": 176,
      "outputs": [
        {
          "output_type": "stream",
          "name": "stdout",
          "text": [
            "\n",
            "Dataframe after adding Car_Age:\n",
            "   Unnamed: 0                              Name    Location  Year  \\\n",
            "0           1  Hyundai Creta 1.6 CRDi SX Option        Pune  2015   \n",
            "1           2                      Honda Jazz V     Chennai  2011   \n",
            "2           3                 Maruti Ertiga VDI     Chennai  2012   \n",
            "3           4   Audi A4 New 2.0 TDI Multitronic  Coimbatore  2013   \n",
            "4           6            Nissan Micra Diesel XV      Jaipur  2013   \n",
            "\n",
            "   Kilometers_Driven Owner_Type  Mileage  Engine   Power  Seats  Price  \\\n",
            "0              41000      First    19.67  1582.0  126.20    5.0  12.50   \n",
            "1              46000      First    13.00  1199.0   88.70    5.0   4.50   \n",
            "2              87000      First    20.77  1248.0   88.76    7.0   6.00   \n",
            "3              40670     Second    15.20  1968.0  140.80    5.0  17.74   \n",
            "4              86999      First    23.08  1461.0   63.10    5.0   3.50   \n",
            "\n",
            "   Fuel_Type_Electric  Fuel_Type_Petrol  Transmission_Manual  Car_Age  \n",
            "0               False             False                 True        8  \n",
            "1               False              True                 True       12  \n",
            "2               False             False                 True       11  \n",
            "3               False             False                False       10  \n",
            "4               False             False                 True       10  \n"
          ]
        }
      ]
    },
    {
      "cell_type": "markdown",
      "source": [
        "e) Perform select, filter, rename, mutate, arrange and summarize with group by operations (or\n",
        "their equivalent operations in python) on this dataset."
      ],
      "metadata": {
        "id": "zo6cEWAApx0X"
      }
    },
    {
      "cell_type": "code",
      "source": [
        "\n",
        "# Select specific columns\n",
        "selected_columns = ['Name', 'Location', 'Year', 'Kilometers_Driven', 'Owner_Type', 'Price', 'Car_Age']\n",
        "df_selected = df[selected_columns]\n",
        "\n",
        "# Filter data (e.g., cars with more than 50,000 km driven and price below 10 lakh)\n",
        "df_filtered = df_selected[(df_selected['Kilometers_Driven'] > 50000) & (df_selected['Price'] < 10)]\n",
        "\n",
        "# Rename columns\n",
        "df_renamed = df_filtered.rename(columns={'Kilometers_Driven': 'KM_Driven'})\n",
        "\n",
        "\n",
        "# Mutate (create a new column based on existing ones)\n",
        "# Example: Calculate price per kilometer driven\n",
        "df_mutated = df_renamed.assign(Price_per_KM = df_renamed['Price'] / df_renamed['KM_Driven'])\n",
        "\n",
        "\n",
        "# Arrange (sort) the data\n",
        "df_arranged = df_mutated.sort_values(by=['Car_Age', 'Price'], ascending=[False, True])\n",
        "\n",
        "# Summarize with group by\n",
        "df_summarized = df_arranged.groupby('Location')['Price'].agg(['mean', 'median', 'count'])\n",
        "\n",
        "\n",
        "# Save the modified DataFrame to a CSV file\n",
        "df_summarized.to_csv('processed_car_data.csv', index=True) #index=True to keep the location as the index\n",
        "\n",
        "print(\"\\nSummarized data:\")\n",
        "print(df_summarized)\n",
        "\n",
        "print(\"\\nDataFrame saved to processed_car_data.csv\")"
      ],
      "metadata": {
        "colab": {
          "base_uri": "https://localhost:8080/"
        },
        "id": "pkFQ3_KY1Gsf",
        "outputId": "0fdf1dc4-6492-4487-d1c3-783abad8651b"
      },
      "execution_count": 177,
      "outputs": [
        {
          "output_type": "stream",
          "name": "stdout",
          "text": [
            "\n",
            "Summarized data:\n",
            "                mean  median  count\n",
            "Location                           \n",
            "Ahmedabad   4.807300   4.350    100\n",
            "Bangalore   5.020704   4.725    142\n",
            "Chennai     3.913208   3.500    265\n",
            "Coimbatore  5.837531   5.675    162\n",
            "Delhi       4.359296   3.995    270\n",
            "Hyderabad   4.671218   4.395    394\n",
            "Jaipur      3.852852   3.825    256\n",
            "Kochi       5.426289   5.425    194\n",
            "Kolkata     4.003364   3.475    110\n",
            "Mumbai      4.451556   4.000    225\n",
            "Pune        3.789630   3.365    324\n",
            "\n",
            "DataFrame saved to processed_car_data.csv\n"
          ]
        }
      ]
    }
  ]
}